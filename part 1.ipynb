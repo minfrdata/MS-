{
 "cells": [
  {
   "cell_type": "code",
   "execution_count": 4,
   "metadata": {
    "collapsed": false,
    "deletable": true,
    "editable": true
   },
   "outputs": [
    {
     "name": "stdout",
     "output_type": "stream",
     "text": [
      "Requirement already satisfied: sklearn in /Library/Frameworks/Python.framework/Versions/2.7/lib/python2.7/site-packages\r\n",
      "Requirement already satisfied: scikit-learn in /Library/Frameworks/Python.framework/Versions/2.7/lib/python2.7/site-packages (from sklearn)\r\n"
     ]
    }
   ],
   "source": [
    "#INSTALL modules\n",
    "!pip install sklearn\n",
    "!pip install cycle\n"
   ]
  },
  {
   "cell_type": "code",
   "execution_count": 62,
   "metadata": {
    "collapsed": true,
    "deletable": true,
    "editable": true
   },
   "outputs": [],
   "source": [
    "#import modules\n",
    "import pandas as pd\n",
    "import numpy as np"
   ]
  },
  {
   "cell_type": "markdown",
   "metadata": {
    "collapsed": true,
    "deletable": true,
    "editable": true
   },
   "source": [
    "# part1 使用分类算法对传统价格技术指标进行训练\n",
    "techniques indexes anlysis using methods of classifications"
   ]
  },
  {
   "cell_type": "markdown",
   "metadata": {
    "deletable": true,
    "editable": true
   },
   "source": [
    "## Section1 data manipulation"
   ]
  },
  {
   "cell_type": "code",
   "execution_count": 74,
   "metadata": {
    "collapsed": false,
    "deletable": true,
    "editable": true
   },
   "outputs": [
    {
     "data": {
      "text/html": [
       "<div>\n",
       "<table border=\"1\" class=\"dataframe\">\n",
       "  <thead>\n",
       "    <tr style=\"text-align: right;\">\n",
       "      <th></th>\n",
       "      <th>OPEN</th>\n",
       "      <th>CLOSE</th>\n",
       "      <th>HIGH</th>\n",
       "      <th>LOW</th>\n",
       "      <th>MEAN</th>\n",
       "      <th>MA1</th>\n",
       "      <th>MA5</th>\n",
       "      <th>MA20</th>\n",
       "      <th>VOLUME</th>\n",
       "      <th>MACD</th>\n",
       "      <th>RSI12</th>\n",
       "      <th>ROC</th>\n",
       "      <th>MTM</th>\n",
       "      <th>K</th>\n",
       "      <th>D</th>\n",
       "      <th>J</th>\n",
       "      <th>response</th>\n",
       "    </tr>\n",
       "  </thead>\n",
       "  <tbody>\n",
       "    <tr>\n",
       "      <th>count</th>\n",
       "      <td>905.000000</td>\n",
       "      <td>905.000000</td>\n",
       "      <td>905.000000</td>\n",
       "      <td>905.000000</td>\n",
       "      <td>906.000000</td>\n",
       "      <td>906.000000</td>\n",
       "      <td>905.000000</td>\n",
       "      <td>905.000000</td>\n",
       "      <td>905.000000</td>\n",
       "      <td>905.000000</td>\n",
       "      <td>905.000000</td>\n",
       "      <td>905.000000</td>\n",
       "      <td>905.000000</td>\n",
       "      <td>905.000000</td>\n",
       "      <td>905.000000</td>\n",
       "      <td>905.000000</td>\n",
       "      <td>905.000000</td>\n",
       "    </tr>\n",
       "    <tr>\n",
       "      <th>mean</th>\n",
       "      <td>255.962652</td>\n",
       "      <td>256.025249</td>\n",
       "      <td>257.416851</td>\n",
       "      <td>254.543149</td>\n",
       "      <td>256.440232</td>\n",
       "      <td>256.046192</td>\n",
       "      <td>256.013249</td>\n",
       "      <td>255.945757</td>\n",
       "      <td>209550.262983</td>\n",
       "      <td>0.005193</td>\n",
       "      <td>49.610387</td>\n",
       "      <td>0.083403</td>\n",
       "      <td>0.099227</td>\n",
       "      <td>49.861337</td>\n",
       "      <td>49.961149</td>\n",
       "      <td>49.661768</td>\n",
       "      <td>0.004641</td>\n",
       "    </tr>\n",
       "    <tr>\n",
       "      <th>std</th>\n",
       "      <td>18.320537</td>\n",
       "      <td>18.275026</td>\n",
       "      <td>18.254676</td>\n",
       "      <td>18.308958</td>\n",
       "      <td>20.139474</td>\n",
       "      <td>18.277422</td>\n",
       "      <td>18.149616</td>\n",
       "      <td>17.703681</td>\n",
       "      <td>112758.506719</td>\n",
       "      <td>1.559793</td>\n",
       "      <td>13.039195</td>\n",
       "      <td>3.108907</td>\n",
       "      <td>7.842864</td>\n",
       "      <td>23.731121</td>\n",
       "      <td>20.961261</td>\n",
       "      <td>36.038136</td>\n",
       "      <td>2.327733</td>\n",
       "    </tr>\n",
       "    <tr>\n",
       "      <th>min</th>\n",
       "      <td>218.700000</td>\n",
       "      <td>218.150000</td>\n",
       "      <td>219.800000</td>\n",
       "      <td>216.800000</td>\n",
       "      <td>0.000000</td>\n",
       "      <td>218.150000</td>\n",
       "      <td>219.380000</td>\n",
       "      <td>222.920000</td>\n",
       "      <td>19310.000000</td>\n",
       "      <td>-3.930000</td>\n",
       "      <td>0.000000</td>\n",
       "      <td>-8.540000</td>\n",
       "      <td>-21.550000</td>\n",
       "      <td>7.420000</td>\n",
       "      <td>10.490000</td>\n",
       "      <td>-18.210000</td>\n",
       "      <td>-11.300000</td>\n",
       "    </tr>\n",
       "    <tr>\n",
       "      <th>25%</th>\n",
       "      <td>240.800000</td>\n",
       "      <td>240.650000</td>\n",
       "      <td>242.400000</td>\n",
       "      <td>239.500000</td>\n",
       "      <td>241.500000</td>\n",
       "      <td>240.650000</td>\n",
       "      <td>240.680000</td>\n",
       "      <td>240.950000</td>\n",
       "      <td>139772.000000</td>\n",
       "      <td>-1.100000</td>\n",
       "      <td>40.660000</td>\n",
       "      <td>-2.100000</td>\n",
       "      <td>-5.500000</td>\n",
       "      <td>27.870000</td>\n",
       "      <td>31.250000</td>\n",
       "      <td>17.630000</td>\n",
       "      <td>-1.400000</td>\n",
       "    </tr>\n",
       "    <tr>\n",
       "      <th>50%</th>\n",
       "      <td>257.500000</td>\n",
       "      <td>257.500000</td>\n",
       "      <td>258.700000</td>\n",
       "      <td>255.900000</td>\n",
       "      <td>257.980000</td>\n",
       "      <td>257.575000</td>\n",
       "      <td>257.990000</td>\n",
       "      <td>258.040000</td>\n",
       "      <td>186698.000000</td>\n",
       "      <td>0.040000</td>\n",
       "      <td>49.960000</td>\n",
       "      <td>0.130000</td>\n",
       "      <td>0.350000</td>\n",
       "      <td>49.390000</td>\n",
       "      <td>50.720000</td>\n",
       "      <td>48.910000</td>\n",
       "      <td>-0.050000</td>\n",
       "    </tr>\n",
       "    <tr>\n",
       "      <th>75%</th>\n",
       "      <td>269.350000</td>\n",
       "      <td>269.600000</td>\n",
       "      <td>271.000000</td>\n",
       "      <td>268.050000</td>\n",
       "      <td>270.350000</td>\n",
       "      <td>269.637500</td>\n",
       "      <td>269.510000</td>\n",
       "      <td>268.450000</td>\n",
       "      <td>252092.000000</td>\n",
       "      <td>1.040000</td>\n",
       "      <td>58.680000</td>\n",
       "      <td>1.960000</td>\n",
       "      <td>5.100000</td>\n",
       "      <td>71.300000</td>\n",
       "      <td>69.220000</td>\n",
       "      <td>82.200000</td>\n",
       "      <td>1.250000</td>\n",
       "    </tr>\n",
       "    <tr>\n",
       "      <th>max</th>\n",
       "      <td>296.950000</td>\n",
       "      <td>296.700000</td>\n",
       "      <td>297.700000</td>\n",
       "      <td>295.100000</td>\n",
       "      <td>297.200000</td>\n",
       "      <td>296.700000</td>\n",
       "      <td>294.760000</td>\n",
       "      <td>289.620000</td>\n",
       "      <td>997696.000000</td>\n",
       "      <td>4.420000</td>\n",
       "      <td>86.940000</td>\n",
       "      <td>9.880000</td>\n",
       "      <td>25.250000</td>\n",
       "      <td>93.550000</td>\n",
       "      <td>89.380000</td>\n",
       "      <td>122.740000</td>\n",
       "      <td>12.500000</td>\n",
       "    </tr>\n",
       "  </tbody>\n",
       "</table>\n",
       "</div>"
      ],
      "text/plain": [
       "             OPEN       CLOSE        HIGH         LOW        MEAN         MA1  \\\n",
       "count  905.000000  905.000000  905.000000  905.000000  906.000000  906.000000   \n",
       "mean   255.962652  256.025249  257.416851  254.543149  256.440232  256.046192   \n",
       "std     18.320537   18.275026   18.254676   18.308958   20.139474   18.277422   \n",
       "min    218.700000  218.150000  219.800000  216.800000    0.000000  218.150000   \n",
       "25%    240.800000  240.650000  242.400000  239.500000  241.500000  240.650000   \n",
       "50%    257.500000  257.500000  258.700000  255.900000  257.980000  257.575000   \n",
       "75%    269.350000  269.600000  271.000000  268.050000  270.350000  269.637500   \n",
       "max    296.950000  296.700000  297.700000  295.100000  297.200000  296.700000   \n",
       "\n",
       "              MA5        MA20         VOLUME      MACD       RSI12    \\\n",
       "count  905.000000  905.000000     905.000000  905.000000  905.000000   \n",
       "mean   256.013249  255.945757  209550.262983    0.005193   49.610387   \n",
       "std     18.149616   17.703681  112758.506719    1.559793   13.039195   \n",
       "min    219.380000  222.920000   19310.000000   -3.930000    0.000000   \n",
       "25%    240.680000  240.950000  139772.000000   -1.100000   40.660000   \n",
       "50%    257.990000  258.040000  186698.000000    0.040000   49.960000   \n",
       "75%    269.510000  268.450000  252092.000000    1.040000   58.680000   \n",
       "max    294.760000  289.620000  997696.000000    4.420000   86.940000   \n",
       "\n",
       "           ROC            MTM           K      D           J         response  \n",
       "count  905.000000  905.000000  905.000000  905.000000  905.000000  905.000000  \n",
       "mean     0.083403    0.099227   49.861337   49.961149   49.661768    0.004641  \n",
       "std      3.108907    7.842864   23.731121   20.961261   36.038136    2.327733  \n",
       "min     -8.540000  -21.550000    7.420000   10.490000  -18.210000  -11.300000  \n",
       "25%     -2.100000   -5.500000   27.870000   31.250000   17.630000   -1.400000  \n",
       "50%      0.130000    0.350000   49.390000   50.720000   48.910000   -0.050000  \n",
       "75%      1.960000    5.100000   71.300000   69.220000   82.200000    1.250000  \n",
       "max      9.880000   25.250000   93.550000   89.380000  122.740000   12.500000  "
      ]
     },
     "execution_count": 74,
     "metadata": {},
     "output_type": "execute_result"
    }
   ],
   "source": [
    "#load the raw data\n",
    "rawdata=pd.read_csv(\"rawdata.csv\")\n",
    "rawdata.head()\n",
    "rawdata.describe()"
   ]
  },
  {
   "cell_type": "code",
   "execution_count": 75,
   "metadata": {
    "collapsed": true,
    "deletable": true,
    "editable": true
   },
   "outputs": [],
   "source": [
    "#to check if price rises or falls in the next day,\n",
    "#fill 1 when rising, fill 0 when falling\n",
    "rawdata[\"dMean\"]=rawdata[\"MEAN\"].diff(1)\n",
    "rawdata.ix[rawdata[\"dMean\"]<0,\"response\"]=0\n",
    "rawdata.ix[rawdata[\"dMean\"]>0,\"response\"]=1\n",
    "\n",
    "#fix small errors \n",
    "rawdata.ix[rawdata[\"response\"]==-1.05,\"response\"]=0\n",
    "rawdata.ix[rawdata[\"response\"]==-0.4,\"response\"]=0\n",
    "rawdata.ix[rawdata[\"response\"]==0.05,\"response\"]=0\n",
    "rawdata.ix[rawdata[\"response\"]==0.6,\"response\"]=0\n",
    "\n",
    "#rename the columns\n",
    "rawdata.columns=[\"Time\",\"OPEN\",\"CLOSE\",\"HIGH\",\"LOW\",\"MEAN\",\"MA1\",\"MA5\",\"MA20\",\"VOLUME\",\n",
    "                            \"MACD\",\"RSI12\",\"ROC\",\"MTM\",\"K\",\"D\",\"J\",\"response\",\"dMean\"]\n",
    "\n",
    "\n",
    "\n",
    "#split the raw data to train_rawdata and test_rawdata, \n",
    "#then selecting the cols we need as test and training sets\n",
    "train_rawdata=rawdata.ix[0:799,:]\n",
    "test_rawdata=rawdata.ix[800:904,:]\n",
    "\n",
    "train_features=train_rawdata.ix[:,[\"MA5\",\"MA20\",\"VOLUME\",\"MACD\",\"RSI12\",\"ROC\",\"MTM\",\"K\"]]\n",
    "train_response=train_rawdata.ix[:,\"response\"]\n",
    "\n",
    "test_features=test_rawdata.ix[:,[\"MA5\",\"MA20\",\"VOLUME\",\"MACD\",\"RSI12\",\"ROC\",\"MTM\",\"K\"]]\n",
    "test_response=test_rawdata.ix[:,\"response\"]"
   ]
  },
  {
   "cell_type": "code",
   "execution_count": 76,
   "metadata": {
    "collapsed": true,
    "deletable": true,
    "editable": true
   },
   "outputs": [],
   "source": [
    "#convert the response variable as categorical type\n",
    "train_response=train_response.astype(\"category\")\n",
    "test_response=test_response.astype(\"category\")"
   ]
  },
  {
   "cell_type": "code",
   "execution_count": 77,
   "metadata": {
    "collapsed": true,
    "deletable": true,
    "editable": true
   },
   "outputs": [],
   "source": [
    "#normalised the train_features and test_features data\n",
    "from sklearn import preprocessing\n",
    "x = train_features.values #returns a numpy array\n",
    "min_max_scaler = preprocessing.MinMaxScaler()\n",
    "x_scaled = min_max_scaler.fit_transform(x)\n",
    "normalised_train_features = pd.DataFrame(x_scaled,columns=[\"MA5\",\"MA20\",\"VOLUME\",\"MACD\",\"RSI12\",\"ROC\",\"MTM\",\"K\"])\n",
    "\n",
    "\n",
    "from sklearn import preprocessing\n",
    "x2 = test_features.values #returns a numpy array\n",
    "min_max_scaler = preprocessing.MinMaxScaler()\n",
    "x2_scaled = min_max_scaler.fit_transform(x2)\n",
    "normalised_test_features = pd.DataFrame(x2_scaled,columns=[\"MA5\",\"MA20\",\"VOLUME\",\"MACD\",\"RSI12\",\"ROC\",\"MTM\",\"K\"])\n",
    "\n"
   ]
  },
  {
   "cell_type": "code",
   "execution_count": 78,
   "metadata": {
    "collapsed": true,
    "deletable": true,
    "editable": true
   },
   "outputs": [],
   "source": [
    "#save the tables to local file for later use maybe\n",
    "normalised_train_features.to_csv(\"normalised_train_features.csv\")\n",
    "normalised_test_features.to_csv(\"normalised_test_features.csv\")\n",
    "train_response.to_csv(\"train_response.csv\")\n",
    "test_response.to_csv(\"test_response.csv\")"
   ]
  },
  {
   "cell_type": "markdown",
   "metadata": {
    "deletable": true,
    "editable": true
   },
   "source": [
    "## section 2 CLassification Methods"
   ]
  },
  {
   "cell_type": "markdown",
   "metadata": {
    "deletable": true,
    "editable": true
   },
   "source": [
    "### 2.1 logistic regression"
   ]
  },
  {
   "cell_type": "code",
   "execution_count": 79,
   "metadata": {
    "collapsed": false,
    "deletable": true,
    "editable": true
   },
   "outputs": [
    {
     "name": "stdout",
     "output_type": "stream",
     "text": [
      "LogisticRegression(C=1.0, class_weight=None, dual=False, fit_intercept=True,\n",
      "          intercept_scaling=1, max_iter=100, multi_class='ovr', n_jobs=1,\n",
      "          penalty='l2', random_state=None, solver='liblinear', tol=0.0001,\n",
      "          verbose=0, warm_start=False)\n"
     ]
    }
   ],
   "source": [
    "# Logistic Regression\n",
    "#np.random.seed()\n",
    "from sklearn import metrics\n",
    "from sklearn.linear_model import LogisticRegression\n",
    "\n",
    "# fit a logistic regression model to the data\n",
    "model_logist = LogisticRegression()\n",
    "model_logist.fit(train_features ,train_response)\n",
    "print(model_logist)\n",
    "\n",
    "# make predictions\n",
    "expected = test_response\n",
    "predicted = model_logist.predict(test_features)\n"
   ]
  },
  {
   "cell_type": "markdown",
   "metadata": {
    "deletable": true,
    "editable": true
   },
   "source": [
    "**MODEL EVALUATION**"
   ]
  },
  {
   "cell_type": "code",
   "execution_count": 80,
   "metadata": {
    "collapsed": false,
    "deletable": true,
    "editable": true
   },
   "outputs": [
    {
     "name": "stdout",
     "output_type": "stream",
     "text": [
      "             precision    recall  f1-score   support\n",
      "\n",
      "        0.0       0.66      0.98      0.79        58\n",
      "        1.0       0.94      0.36      0.52        47\n",
      "\n",
      "avg / total       0.78      0.70      0.67       105\n",
      "\n",
      "[[57  1]\n",
      " [30 17]]\n"
     ]
    },
    {
     "data": {
      "image/png": "[encoded data removed]",
      "text/plain": [
       "<matplotlib.figure.Figure at 0x10d1e1190>"
      ]
     },
     "metadata": {},
     "output_type": "display_data"
    },
    {
     "data": {
      "text/plain": [
       "<ggplot: (282275961)>"
      ]
     },
     "execution_count": 80,
     "metadata": {},
     "output_type": "execute_result"
    }
   ],
   "source": [
    "# summarize the fit of the model\n",
    "print(metrics.classification_report(expected, predicted))\n",
    "print(metrics.confusion_matrix(expected, predicted))\n",
    "\n",
    "#ROC curve\n",
    "from ggplot import *\n",
    "fpr, tpr, _ = metrics.roc_curve(expected, predicted)\n",
    "\n",
    "df = pd.DataFrame(dict(fpr=fpr, tpr=tpr))\n",
    "\n",
    "ggplot(df, aes(x='fpr', y='tpr')) +\\\n",
    "    geom_line() +\\\n",
    "    geom_abline(linetype='dashed')"
   ]
  },
  {
   "cell_type": "markdown",
   "metadata": {
    "deletable": true,
    "editable": true
   },
   "source": [
    "### 2.2 Neural Networks"
   ]
  },
  {
   "cell_type": "code",
   "execution_count": 81,
   "metadata": {
    "collapsed": false,
    "deletable": true,
    "editable": true
   },
   "outputs": [
    {
     "name": "stdout",
     "output_type": "stream",
     "text": [
      "             precision    recall  f1-score   support\n",
      "\n",
      "        0.0       0.55      1.00      0.71        58\n",
      "        1.0       0.00      0.00      0.00        47\n",
      "\n",
      "avg / total       0.31      0.55      0.39       105\n",
      "\n",
      "[[58  0]\n",
      " [47  0]]\n"
     ]
    }
   ],
   "source": [
    "from sklearn.neural_network import MLPClassifier\n",
    "# split into input (X) and output (Y) variables\n",
    "X = train_features\n",
    "Y = train_response\n",
    "clf = MLPClassifier(activation='logistic',solver='lbfgs', alpha=1,\n",
    "                    hidden_layer_sizes=(4, ), random_state=1)\n",
    "\n",
    "clf.fit(X, Y)  \n",
    "predicted_NN=clf.predict(test_features)\n",
    "\n",
    "print(metrics.classification_report(expected, predicted_NN))\n",
    "print(metrics.confusion_matrix(expected, predicted_NN))"
   ]
  },
  {
   "cell_type": "markdown",
   "metadata": {
    "deletable": true,
    "editable": true
   },
   "source": [
    "### 2.3 SVM "
   ]
  },
  {
   "cell_type": "code",
   "execution_count": 82,
   "metadata": {
    "collapsed": false,
    "deletable": true,
    "editable": true
   },
   "outputs": [
    {
     "name": "stdout",
     "output_type": "stream",
     "text": [
      "             precision    recall  f1-score   support\n",
      "\n",
      "        0.0       0.55      1.00      0.71        58\n",
      "        1.0       0.00      0.00      0.00        47\n",
      "\n",
      "avg / total       0.31      0.55      0.39       105\n",
      "\n",
      "[[58  0]\n",
      " [47  0]]\n"
     ]
    }
   ],
   "source": [
    "from sklearn import svm\n",
    "\n",
    "X = train_features\n",
    "Y = train_response\n",
    "clf = svm.SVC()\n",
    "clf.fit(X, Y) \n",
    "predicted_SVM=clf.predict(test_features)\n",
    "print(metrics.classification_report(expected, predicted_SVM))\n",
    "print(metrics.confusion_matrix(expected, predicted_SVM))"
   ]
  },
  {
   "cell_type": "code",
   "execution_count": null,
   "metadata": {
    "collapsed": true
   },
   "outputs": [],
   "source": []
  }
 ],
 "metadata": {
  "kernelspec": {
   "display_name": "Python 2",
   "language": "python",
   "name": "python2"
  },
  "language_info": {
   "codemirror_mode": {
    "name": "ipython",
    "version": 2
   },
   "file_extension": ".py",
   "mimetype": "text/x-python",
   "name": "python",
   "nbconvert_exporter": "python",
   "pygments_lexer": "ipython2",
   "version": "2.7.9"
  }
 },
 "nbformat": 4,
 "nbformat_minor": 2
}
